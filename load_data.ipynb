{
 "cells": [
  {
   "cell_type": "code",
   "execution_count": 1,
   "metadata": {},
   "outputs": [
    {
     "name": "stderr",
     "output_type": "stream",
     "text": [
      "/Users/timhulshof/Documents/RAG/venv/lib/python3.9/site-packages/urllib3/__init__.py:34: NotOpenSSLWarning: urllib3 v2 only supports OpenSSL 1.1.1+, currently the 'ssl' module is compiled with 'LibreSSL 2.8.3'. See: https://github.com/urllib3/urllib3/issues/3020\n",
      "  warnings.warn(\n",
      "/Users/timhulshof/Documents/RAG/venv/lib/python3.9/site-packages/tqdm/auto.py:21: TqdmWarning: IProgress not found. Please update jupyter and ipywidgets. See https://ipywidgets.readthedocs.io/en/stable/user_install.html\n",
      "  from .autonotebook import tqdm as notebook_tqdm\n"
     ]
    }
   ],
   "source": [
    "from pymongo import MongoClient\n",
    "from langchain_openai import OpenAIEmbeddings\n",
    "from langchain_community.vectorstores import MongoDBAtlasVectorSearch\n",
    "from langchain_community.document_loaders import DirectoryLoader\n",
    "from langchain_openai import OpenAI\n",
    "from langchain.chains import RetrievalQA\n",
    "import gradio as gr\n",
    "from gradio.themes.base import Base\n",
    "import key_param"
   ]
  },
  {
   "cell_type": "code",
   "execution_count": 2,
   "metadata": {},
   "outputs": [],
   "source": [
    "client = MongoClient(key_param.MONGO_URI)\n",
    "dbName = \"IMD\"\n",
    "collectionName = \"collection_of_IMD_text_blobs\"\n",
    "collection = client[dbName][collectionName]"
   ]
  },
  {
   "cell_type": "code",
   "execution_count": 3,
   "metadata": {},
   "outputs": [],
   "source": [
    "import os\n",
    "import shutil\n",
    "\n",
    "source_dir = \"../agora/IMDs/\"  # The directory containing the subfolders with text files\n",
    "destination_dir = \"./IMD_text_files/\"  # The folder you created to store the copies\n",
    "\n",
    "# Ensure the destination directory exists\n",
    "os.makedirs(destination_dir, exist_ok=True)\n",
    "\n",
    "# Iterate through each subfolder within the source directory\n",
    "for subfolder in os.listdir(source_dir):\n",
    "    subfolder_path = os.path.join(source_dir, subfolder)\n",
    "\n",
    "    # Check if the item is actually a subfolder\n",
    "    if os.path.isdir(subfolder_path):\n",
    "        # Iterate over the files within the subfolder\n",
    "        for file in os.listdir(subfolder_path):\n",
    "            file_path = os.path.join(subfolder_path, file)\n",
    "\n",
    "            # Check if it's a text file\n",
    "            if file.endswith(\".txt\"):\n",
    "                shutil.copy(file_path, destination_dir)  # Copy the file\n"
   ]
  },
  {
   "cell_type": "code",
   "execution_count": 4,
   "metadata": {},
   "outputs": [
    {
     "name": "stderr",
     "output_type": "stream",
     "text": [
      "  0%|          | 0/109 [00:00<?, ?it/s]"
     ]
    },
    {
     "name": "stderr",
     "output_type": "stream",
     "text": [
      "100%|██████████| 109/109 [00:04<00:00, 24.06it/s]\n"
     ]
    }
   ],
   "source": [
    "loader = DirectoryLoader('./IMD_text_files', glob='./*.txt', show_progress=True)\n",
    "data = loader.load()\n",
    "\n",
    "embeddings = OpenAIEmbeddings(openai_api_key=key_param.openai_api_key)"
   ]
  },
  {
   "cell_type": "code",
   "execution_count": 6,
   "metadata": {},
   "outputs": [],
   "source": [
    "vectorStore = MongoDBAtlasVectorSearch.from_documents(data, embeddings, collection=collection)"
   ]
  }
 ],
 "metadata": {
  "kernelspec": {
   "display_name": "venv",
   "language": "python",
   "name": "python3"
  },
  "language_info": {
   "codemirror_mode": {
    "name": "ipython",
    "version": 3
   },
   "file_extension": ".py",
   "mimetype": "text/x-python",
   "name": "python",
   "nbconvert_exporter": "python",
   "pygments_lexer": "ipython3",
   "version": "3.9.6"
  }
 },
 "nbformat": 4,
 "nbformat_minor": 2
}
